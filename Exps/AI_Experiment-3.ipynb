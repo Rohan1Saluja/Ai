{
 "cells": [
  {
   "cell_type": "code",
   "execution_count": null,
   "outputs": [],
   "source": [
    "from queue import PriorityQueue\n",
    "v = 14\n",
    "# graph = [[] for i in range(v)]\n",
    "\n",
    "# Function For Implementing Best First Search\n",
    "# Gives output path having lowest cost\n",
    "\n",
    "\n",
    "def best_first_search(actual_Src, target, n):\n",
    "\tvisited = [False] * n\n",
    "\tpq = PriorityQueue()\n",
    "\tpq.put((0, actual_Src))\n",
    "\tvisited[actual_Src] = True\n",
    "\n",
    "\twhile pq.empty() == False:\n",
    "\t\tu = pq.get()[1]\n",
    "\t\t# Displaying the path having lowest cost\n",
    "\t\tprint(u, end=\" \")\n",
    "\t\tif u == target:\n",
    "\t\t\tbreak\n",
    "\n",
    "\t\tfor v, c in graph[u]:\n",
    "\t\t\tif visited[v] == False:\n",
    "\t\t\t\tvisited[v] = True\n",
    "\t\t\t\tpq.put((c, v))\n",
    "\tprint()\n",
    "\n",
    "# Function for adding edges to graph\n",
    "\n",
    "\n",
    "def addedge(x, y, cost):\n",
    "\tgraph[x].append((y, cost))\n",
    "\tgraph[y].append((x, cost))\n",
    "\n",
    "\n",
    "# The nodes shown in above example(by alphabets) are\n",
    "# implemented using integers addedge(x,y,cost);\n",
    "addedge(0, 1, 3)\n",
    "addedge(0, 2, 6)\n",
    "addedge(0, 3, 5)\n",
    "addedge(1, 4, 9)\n",
    "addedge(1, 5, 8)\n",
    "addedge(2, 6, 12)\n",
    "addedge(2, 7, 14)\n",
    "addedge(3, 8, 7)\n",
    "addedge(8, 9, 5)\n",
    "addedge(8, 10, 6)\n",
    "addedge(9, 11, 1)\n",
    "addedge(9, 12, 10)\n",
    "addedge(9, 13, 2)\n",
    "\n",
    "source = 0\n",
    "target = 9\n",
    "best_first_search(source, target, v)\n",
    "\n",
    "# This code is contributed by Jyotheeswar Ganne\n"
   ],
   "metadata": {
    "collapsed": false
   }
  },
  {
   "cell_type": "code",
   "execution_count": 1,
   "outputs": [
    {
     "name": "stdout",
     "output_type": "stream",
     "text": [
      "Cost from A to D: 4\n"
     ]
    }
   ],
   "source": [
    "def greedy_search(graph, start, goal):\n",
    "    visited = set()\n",
    "    stack = [(start, 0)]\n",
    "    while stack:\n",
    "        (node, cost) = stack.pop()\n",
    "        if node not in visited:\n",
    "            visited.add(node)\n",
    "            if node == goal:\n",
    "                return cost\n",
    "            for neighbor, weight in graph[node].items():\n",
    "                if neighbor not in visited:\n",
    "                    stack.append((neighbor, cost + weight))\n",
    "    return -1 # If there is no path from start to goal\n",
    "\n",
    "# Example usage\n",
    "graph = {\n",
    "    'A': {'B': 2, 'C': 3},\n",
    "    'B': {'D': 5},\n",
    "    'C': {'D': 1},\n",
    "    'D': {}\n",
    "}\n",
    "start = 'A'\n",
    "goal = 'D'\n",
    "result = greedy_search(graph, start, goal)\n",
    "print(f\"Cost from {start} to {goal}: {result}\")"
   ],
   "metadata": {
    "collapsed": false
   }
  },
  {
   "cell_type": "code",
   "execution_count": 3,
   "outputs": [
    {
     "name": "stdout",
     "output_type": "stream",
     "text": [
      "Goal node found with minimum cost of 13\n"
     ]
    }
   ],
   "source": [
    "from queue import PriorityQueue\n",
    "\n",
    "# Graph data structure with weights/costs\n",
    "graph = {\n",
    "    'A': {'B': 5, 'C': 6},\n",
    "    'B': {'D': 9, 'E': 8},\n",
    "    'C': {'F': 7},\n",
    "    'D': {},\n",
    "    'E': {'F': 4},\n",
    "    'F': {}\n",
    "}\n",
    "\n",
    "# Define the Best-First Search function to find minimum cost\n",
    "def best_first_search(graph, start, goal):\n",
    "    visited = set() # Set to keep track of visited nodes\n",
    "    pq = PriorityQueue() # Priority Queue to hold nodes to be explored\n",
    "    pq.put((0, start)) # Put starting node with priority 0\n",
    "    costs = {start: 0} # Dictionary to keep track of the minimum cost of each node\n",
    "\n",
    "    while not pq.empty():\n",
    "        # Pop the node with the highest priority\n",
    "        current_cost, current_node = pq.get()\n",
    "\n",
    "        if current_node == goal:\n",
    "            print(\"Goal node found with minimum cost of\", current_cost)\n",
    "            return\n",
    "\n",
    "        visited.add(current_node)\n",
    "\n",
    "        # Explore neighboring nodes\n",
    "        for neighbor, cost in graph[current_node].items():\n",
    "            if neighbor not in visited:\n",
    "                new_cost = costs[current_node] + cost\n",
    "                if neighbor not in costs or new_cost < costs[neighbor]:\n",
    "                    costs[neighbor] = new_cost\n",
    "                    pq.put((new_cost, neighbor)) # Put neighboring nodes in priority queue with priority being the new cost\n",
    "\n",
    "    print(\"Goal node not found\")\n",
    "\n",
    "\n",
    "# Testing the Best-First Search function\n",
    "best_first_search(graph, 'A', 'F')\n"
   ],
   "metadata": {
    "collapsed": false
   }
  },
  {
   "cell_type": "markdown",
   "source": [
    "cfxhg"
   ],
   "metadata": {
    "collapsed": false
   }
  }
 ],
 "metadata": {
  "kernelspec": {
   "display_name": "Python 3",
   "language": "python",
   "name": "python3"
  },
  "language_info": {
   "codemirror_mode": {
    "name": "ipython",
    "version": 2
   },
   "file_extension": ".py",
   "mimetype": "text/x-python",
   "name": "python",
   "nbconvert_exporter": "python",
   "pygments_lexer": "ipython2",
   "version": "2.7.6"
  }
 },
 "nbformat": 4,
 "nbformat_minor": 0
}
