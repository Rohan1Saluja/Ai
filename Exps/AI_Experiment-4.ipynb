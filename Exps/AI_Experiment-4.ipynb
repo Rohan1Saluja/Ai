{
 "cells": [
  {
   "cell_type": "code",
   "execution_count": 1,
   "metadata": {
    "collapsed": true
   },
   "outputs": [
    {
     "name": "stdout",
     "output_type": "stream",
     "text": [
      "Cost from A to D: 4\n"
     ]
    }
   ],
   "source": [
    "from queue import PriorityQueue\n",
    "\n",
    "def a_star_search(graph, start, goal, heuristic):\n",
    "    visited = set()\n",
    "    queue = PriorityQueue()\n",
    "    queue.put((0, start))\n",
    "    while not queue.empty():\n",
    "        (cost, node) = queue.get()\n",
    "        if node not in visited:\n",
    "            visited.add(node)\n",
    "            if node == goal:\n",
    "                return cost\n",
    "            for neighbor, weight in graph[node].items():\n",
    "                if neighbor not in visited:\n",
    "                    priority = cost + weight + heuristic(neighbor, goal)\n",
    "                    queue.put((priority, neighbor))\n",
    "    return -1 # If there is no path from start to goal\n",
    "\n",
    "# Example usage\n",
    "graph = {\n",
    "    'A': {'B': 2, 'C': 3},\n",
    "    'B': {'D': 5},\n",
    "    'C': {'D': 1},\n",
    "    'D': {}\n",
    "}\n",
    "start = 'A'\n",
    "goal = 'D'\n",
    "heuristic = lambda a, b: 0 # A trivial heuristic that always returns 0\n",
    "result = a_star_search(graph, start, goal, heuristic)\n",
    "print(f\"Cost from {start} to {goal}: {result}\")\n"
   ]
  },
  {
   "cell_type": "code",
   "execution_count": null,
   "outputs": [],
   "source": [],
   "metadata": {
    "collapsed": false
   }
  }
 ],
 "metadata": {
  "kernelspec": {
   "display_name": "Python 3",
   "language": "python",
   "name": "python3"
  },
  "language_info": {
   "codemirror_mode": {
    "name": "ipython",
    "version": 2
   },
   "file_extension": ".py",
   "mimetype": "text/x-python",
   "name": "python",
   "nbconvert_exporter": "python",
   "pygments_lexer": "ipython2",
   "version": "2.7.6"
  }
 },
 "nbformat": 4,
 "nbformat_minor": 0
}
