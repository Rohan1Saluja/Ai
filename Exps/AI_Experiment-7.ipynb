{
 "cells": [
  {
   "cell_type": "markdown",
   "source": [
    "# Monkey Banana Problem"
   ],
   "metadata": {
    "collapsed": false
   }
  },
  {
   "cell_type": "code",
   "execution_count": null,
   "metadata": {
    "collapsed": true
   },
   "outputs": [],
   "source": [
    "class MonkeyBananaProblem:\n",
    "    def __init__(self):\n",
    "        self.state = \"INITIAL\"\n",
    "\n",
    "    def perform_action(self, action):\n",
    "        if self.state == \"INITIAL\":\n",
    "            if action == \"MOVE_TO_BOX\":\n",
    "                self.state = \"AT_BOX\"\n",
    "            else:\n",
    "                return False\n",
    "        elif self.state == \"AT_BOX\":\n",
    "            if action == \"CLIMB_BOX\":\n",
    "                self.state = \"ON_BOX\"\n",
    "            elif action == \"PUSH_BOX\":\n",
    "                self.state = \"BOX_AT_BANANA\"\n",
    "            else:\n",
    "                return False\n",
    "        elif self.state == \"ON_BOX\":\n",
    "            if action == \"GRAB_BANANA\":\n",
    "                self.state = \"BANANA_ACQUIRED\"\n",
    "            else:\n",
    "                return False\n",
    "        elif self.state == \"BOX_AT_BANANA\":\n",
    "            if action == \"CLIMB_BOX\":\n",
    "                self.state = \"ON_BOX_AT_BANANA\"\n",
    "            else:\n",
    "                return False\n",
    "        elif self.state == \"ON_BOX_AT_BANANA\":\n",
    "            if action == \"GRAB_BANANA\":\n",
    "                self.state = \"BANANA_ACQUIRED\"\n",
    "            else:\n",
    "                return False\n",
    "        return True\n",
    "\n",
    "    def is_solved(self):\n",
    "        return self.state == \"BANANA_ACQUIRED\"\n",
    "\n",
    "\n",
    "def solve_monkey_banana_problem():\n",
    "    problem = MonkeyBananaProblem()\n",
    "    actions = [\"MOVE_TO_BOX\", \"PUSH_BOX\", \"CLIMB_BOX\", \"GRAB_BANANA\"]\n",
    "    for action1 in actions:\n",
    "        for action2 in actions:\n",
    "            for action3 in actions:\n",
    "                for action4 in actions:\n",
    "                    problem_copy = MonkeyBananaProblem()\n",
    "                    if problem_copy.perform_action(action1) and \\\n",
    "                            problem_copy.perform_action(action2) and \\\n",
    "                            problem_copy.perform_action(action3) and \\\n",
    "                            problem_copy.perform_action(action4) and \\\n",
    "                            problem_copy.is_solved():\n",
    "                        return [action1, action2, action3, action4]\n",
    "    return None\n",
    "\n",
    "\n",
    "solution = solve_monkey_banana_problem()\n",
    "if solution:\n",
    "    print(\"Solution found:\")\n",
    "    for step, action in enumerate(solution, start=1):\n",
    "        print(f\"Step {step}: {action}\")\n",
    "else:\n",
    "    print(\"No solution found.\")"
   ]
  }
 ],
 "metadata": {
  "kernelspec": {
   "display_name": "Python 3",
   "language": "python",
   "name": "python3"
  },
  "language_info": {
   "codemirror_mode": {
    "name": "ipython",
    "version": 2
   },
   "file_extension": ".py",
   "mimetype": "text/x-python",
   "name": "python",
   "nbconvert_exporter": "python",
   "pygments_lexer": "ipython2",
   "version": "2.7.6"
  }
 },
 "nbformat": 4,
 "nbformat_minor": 0
}
